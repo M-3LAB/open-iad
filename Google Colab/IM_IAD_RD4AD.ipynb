{
  "nbformat": 4,
  "nbformat_minor": 0,
  "metadata": {
    "colab": {
      "provenance": [],
      "collapsed_sections": [
        "CjaqZBLR-pGh",
        "VuEPf0XMk1n3",
        "cU_S9rBNmGpK",
        "FsizPXD-23op"
      ],
      "gpuType": "T4"
    },
    "kernelspec": {
      "name": "python3",
      "display_name": "Python 3"
    },
    "language_info": {
      "name": "python"
    },
    "accelerator": "GPU"
  },
  "cells": [
    {
      "cell_type": "markdown",
      "source": [
        "# Step 1: Import Libraries"
      ],
      "metadata": {
        "id": "CjaqZBLR-pGh"
      }
    },
    {
      "cell_type": "code",
      "source": [
        "import importlib\n",
        "import subprocess\n",
        "import torch"
      ],
      "metadata": {
        "id": "wuCkuOuG-pZp"
      },
      "execution_count": 1,
      "outputs": []
    },
    {
      "cell_type": "markdown",
      "source": [
        "# Step 2: Clone Repo"
      ],
      "metadata": {
        "id": "VuEPf0XMk1n3"
      }
    },
    {
      "cell_type": "code",
      "execution_count": 2,
      "metadata": {
        "colab": {
          "base_uri": "https://localhost:8080/"
        },
        "id": "pyYn-MN3kuru",
        "outputId": "3add0cc8-dbd2-4d34-c305-936ead14c560"
      },
      "outputs": [
        {
          "output_type": "stream",
          "name": "stdout",
          "text": [
            "Cloning into 'open-iad'...\n",
            "remote: Enumerating objects: 9740, done.\u001b[K\n",
            "remote: Counting objects: 100% (671/671), done.\u001b[K\n",
            "remote: Compressing objects: 100% (224/224), done.\u001b[K\n",
            "remote: Total 9740 (delta 536), reused 527 (delta 445), pack-reused 9069 (from 1)\u001b[K\n",
            "Receiving objects: 100% (9740/9740), 94.23 MiB | 14.53 MiB/s, done.\n",
            "Resolving deltas: 100% (5860/5860), done.\n",
            "/content/open-iad\n"
          ]
        }
      ],
      "source": [
        "!git clone https://github.com/M-3LAB/open-iad.git\n",
        "%cd open-iad"
      ]
    },
    {
      "cell_type": "code",
      "source": [
        "!ls"
      ],
      "metadata": {
        "colab": {
          "base_uri": "https://localhost:8080/"
        },
        "id": "P-IH8kkuli1U",
        "outputId": "f65f1da3-d123-455f-a050-a2c474c63980"
      },
      "execution_count": 3,
      "outputs": [
        {
          "output_type": "stream",
          "name": "stdout",
          "text": [
            "arch\t      checkpoints    data_io  loss_function  metric  optimizer\tREADME.md\t  tools\n",
            "augmentation  configuration  dataset  main.py\t     models  paradigms\trequirements.txt\n"
          ]
        }
      ]
    },
    {
      "cell_type": "markdown",
      "source": [
        "# Step 3: Install Dependencies"
      ],
      "metadata": {
        "id": "cU_S9rBNmGpK"
      }
    },
    {
      "cell_type": "code",
      "source": [
        "def is_installed(lib_name):\n",
        "    try:\n",
        "        importlib.import_module(lib_name)\n",
        "        return True\n",
        "    except ImportError:\n",
        "        return False"
      ],
      "metadata": {
        "id": "tnkwSW_v_NUk"
      },
      "execution_count": 4,
      "outputs": []
    },
    {
      "cell_type": "code",
      "source": [
        "def get_import_name(package_name):\n",
        "    mapping = {\n",
        "        \"opencv_python\": \"cv2\",\n",
        "        \"scikit_image\": \"skimage\",\n",
        "        \"scikit_learn\": \"sklearn\",\n",
        "        \"PyYAML\": \"yaml\",\n",
        "        \"faiss_gpu\": \"faiss\",\n",
        "        \"pytorch_msssim\": \"pytorch_msssim\",\n",
        "    }\n",
        "    return mapping.get(package_name, package_name.replace(\"-\", \"_\"))"
      ],
      "metadata": {
        "id": "5LNKxEOG_RvB"
      },
      "execution_count": 5,
      "outputs": []
    },
    {
      "cell_type": "code",
      "source": [
        "missing_packages = []\n",
        "print(\"Checking requirements...\")\n",
        "\n",
        "with open(\"requirements.txt\", \"r\") as file:\n",
        "    for line in file:\n",
        "        line = line.strip()\n",
        "        if line.startswith(\"#\") or not line:\n",
        "            continue\n",
        "\n",
        "        package_name = line.split(\"==\")[0]\n",
        "        import_name = get_import_name(package_name)\n",
        "\n",
        "        if is_installed(import_name):\n",
        "            print(f\"✅ {package_name} is already installed.\")\n",
        "        else:\n",
        "            print(f\"❌ {package_name} is missing.\")\n",
        "            missing_packages.append(line)"
      ],
      "metadata": {
        "colab": {
          "base_uri": "https://localhost:8080/"
        },
        "id": "CgUo76Po_aQn",
        "outputId": "b05e6993-1648-414d-8afb-8d7bfc7c08f7"
      },
      "execution_count": 6,
      "outputs": [
        {
          "output_type": "stream",
          "name": "stdout",
          "text": [
            "Checking requirements...\n",
            "✅ rich is already installed.\n",
            "✅ opencv_python is already installed.\n",
            "✅ scipy is already installed.\n",
            "✅ tqdm is already installed.\n",
            "✅ PyYAML is already installed.\n",
            "❌ open3d is missing.\n",
            "❌ scikit-image is missing.\n",
            "❌ scikit-learn is missing.\n",
            "❌ munch is missing.\n",
            "❌ ninja is missing.\n",
            "✅ matplotlib is already installed.\n",
            "✅ tifffile is already installed.\n",
            "✅ imgaug is already installed.\n",
            "❌ kornia is missing.\n",
            "❌ torchmetrics is missing.\n",
            "❌ faiss-gpu is missing.\n",
            "✅ timm is already installed.\n",
            "❌ efficientnet_pytorch is missing.\n",
            "❌ FrEIA is missing.\n",
            "❌ ignite is missing.\n",
            "✅ einops is already installed.\n",
            "❌ torchprofile is missing.\n",
            "❌ pytorch-msssim is missing.\n"
          ]
        }
      ]
    },
    {
      "cell_type": "code",
      "source": [
        "if missing_packages:\n",
        "    print(\"\\nInstalling missing packages...\")\n",
        "    failed_packages = []\n",
        "    for package in missing_packages:\n",
        "        try:\n",
        "            print(f\"Installing {package}...\")\n",
        "            subprocess.check_call([\"pip\", \"install\", package], timeout=300)\n",
        "            print(f\"✅ {package} installed successfully!\")\n",
        "        except subprocess.CalledProcessError as e:\n",
        "            print(f\"❌ Failed to install {package}. Error: {e}\")\n",
        "            failed_packages.append(package)\n",
        "        except subprocess.TimeoutExpired:\n",
        "            print(f\"❌ Installation timed out for {package}. Skipping.\")\n",
        "            failed_packages.append(package)\n",
        "\n",
        "    if failed_packages:\n",
        "        print(\"\\nRetrying failed packages with default versions...\")\n",
        "        default_failed_packages = [pkg.split(\"==\")[0] for pkg in failed_packages]\n",
        "        for package in default_failed_packages:\n",
        "            try:\n",
        "                print(f\"Installing {package} with default version...\")\n",
        "                subprocess.check_call([\"pip\", \"install\", package], timeout=300)\n",
        "                print(f\"✅ {package} installed successfully with default version!\")\n",
        "            except subprocess.CalledProcessError as e:\n",
        "                print(f\"❌ Failed to install {package} even with default version. Error: {e}\")\n",
        "            except subprocess.TimeoutExpired:\n",
        "                print(f\"❌ Installation timed out for {package} (default version). Skipping.\")\n",
        "else:\n",
        "    print(\"\\nAll required packages are already installed!\")"
      ],
      "metadata": {
        "colab": {
          "base_uri": "https://localhost:8080/"
        },
        "id": "Th_H1hVdmHaN",
        "outputId": "cf2920fe-bcac-4ec0-d308-c36b7305a70c"
      },
      "execution_count": 7,
      "outputs": [
        {
          "output_type": "stream",
          "name": "stdout",
          "text": [
            "\n",
            "Installing missing packages...\n",
            "Installing open3d==0.15.2...\n",
            "❌ Failed to install open3d==0.15.2. Error: Command '['pip', 'install', 'open3d==0.15.2']' returned non-zero exit status 1.\n",
            "Installing scikit-image==0.19.2...\n",
            "❌ Installation timed out for scikit-image==0.19.2. Skipping.\n",
            "Installing scikit-learn==1.0.2...\n",
            "❌ Failed to install scikit-learn==1.0.2. Error: Command '['pip', 'install', 'scikit-learn==1.0.2']' returned non-zero exit status 1.\n",
            "Installing munch==2.5.0...\n",
            "✅ munch==2.5.0 installed successfully!\n",
            "Installing ninja==1.10.2.3...\n",
            "✅ ninja==1.10.2.3 installed successfully!\n",
            "Installing kornia==0.6.5...\n",
            "✅ kornia==0.6.5 installed successfully!\n",
            "Installing torchmetrics==0.9.1...\n",
            "✅ torchmetrics==0.9.1 installed successfully!\n",
            "Installing faiss-gpu==1.7.2...\n",
            "❌ Failed to install faiss-gpu==1.7.2. Error: Command '['pip', 'install', 'faiss-gpu==1.7.2']' returned non-zero exit status 1.\n",
            "Installing efficientnet_pytorch==0.7.1...\n",
            "✅ efficientnet_pytorch==0.7.1 installed successfully!\n",
            "Installing FrEIA==0.2...\n",
            "✅ FrEIA==0.2 installed successfully!\n",
            "Installing ignite==0.4.10...\n",
            "❌ Failed to install ignite==0.4.10. Error: Command '['pip', 'install', 'ignite==0.4.10']' returned non-zero exit status 1.\n",
            "Installing torchprofile==0.0.4...\n",
            "✅ torchprofile==0.0.4 installed successfully!\n",
            "Installing pytorch-msssim==0.2.1...\n",
            "✅ pytorch-msssim==0.2.1 installed successfully!\n",
            "\n",
            "Retrying failed packages with default versions...\n",
            "Installing open3d with default version...\n",
            "✅ open3d installed successfully with default version!\n",
            "Installing scikit-image with default version...\n",
            "✅ scikit-image installed successfully with default version!\n",
            "Installing scikit-learn with default version...\n",
            "✅ scikit-learn installed successfully with default version!\n",
            "Installing faiss-gpu with default version...\n",
            "❌ Failed to install faiss-gpu even with default version. Error: Command '['pip', 'install', 'faiss-gpu']' returned non-zero exit status 1.\n",
            "Installing ignite with default version...\n",
            "✅ ignite installed successfully with default version!\n"
          ]
        }
      ]
    },
    {
      "cell_type": "markdown",
      "source": [
        "# Step 4: Verify GPU Access"
      ],
      "metadata": {
        "id": "FsizPXD-23op"
      }
    },
    {
      "cell_type": "code",
      "source": [
        "\"\"\"\n",
        "If torch.cuda.is_available() returns True then we can ues the GPU\n",
        "\"\"\"\n",
        "\n",
        "print(torch.cuda.is_available())"
      ],
      "metadata": {
        "colab": {
          "base_uri": "https://localhost:8080/"
        },
        "id": "uadmm8nQ268N",
        "outputId": "d67ebc8d-b5c5-46ae-a724-fbc4c9b55a55"
      },
      "execution_count": 8,
      "outputs": [
        {
          "output_type": "stream",
          "name": "stdout",
          "text": [
            "True\n"
          ]
        }
      ]
    },
    {
      "cell_type": "code",
      "source": [
        "\"\"\"\n",
        "If torch.cuda.device_count() returns 0, it means no GPU is available.\n",
        "If it returns 1, the only valid GPU ID is 0.\n",
        "\"\"\"\n",
        "\n",
        "print(f\"Available GPUs: {torch.cuda.device_count()}\")\n",
        "print(f\"Current GPU: {torch.cuda.current_device()}\")\n",
        "print(f\"GPU Name: {torch.cuda.get_device_name(0)}\")"
      ],
      "metadata": {
        "colab": {
          "base_uri": "https://localhost:8080/"
        },
        "id": "qChuPERzpeM2",
        "outputId": "cc1d84dd-e3d6-4c83-fb69-0b255755d10b"
      },
      "execution_count": 16,
      "outputs": [
        {
          "output_type": "stream",
          "name": "stdout",
          "text": [
            "Available GPUs: 1\n",
            "Current GPU: 0\n",
            "GPU Name: Tesla T4\n"
          ]
        }
      ]
    },
    {
      "cell_type": "markdown",
      "source": [
        "# Step 5: Change some part of the code for correctness"
      ],
      "metadata": {
        "id": "gy1y16IliIuD"
      }
    },
    {
      "cell_type": "code",
      "source": [
        "device_py_content = \"\"\"\n",
        "import socket\n",
        "import fcntl\n",
        "import struct\n",
        "from configuration.registration import server_data\n",
        "\n",
        "\n",
        "def get_ip_address(ifname):\n",
        "    try:\n",
        "        s = socket.socket(socket.AF_INET, socket.SOCK_DGRAM)\n",
        "        info = struct.pack('256s', bytes(ifname[:15], 'utf-8'))\n",
        "        result = socket.inet_ntoa(fcntl.ioctl(s.fileno(), 0x8915, info)[20:24])\n",
        "        return result\n",
        "    except (OSError, ImportError):\n",
        "        # Handle errors for environments like Colab\n",
        "        print(f\"Warning: Unable to get IP for interface '{ifname}'. Using '127.0.0.1' as default.\")\n",
        "        return '127.0.0.1'\n",
        "\n",
        "\n",
        "def assign_service(moda='eno1'):\n",
        "    ip = get_ip_address(moda)\n",
        "    root_path = server_data.get(ip, \"/content/data\")  # Use default root path if IP is not in server_data\n",
        "\n",
        "    return ip, root_path\n",
        "\"\"\"\n",
        "\n",
        "with open(\"/content/open-iad/configuration/device.py\", \"w\") as f:\n",
        "    f.write(device_py_content)\n",
        "\n",
        "print(\"Updated device.py saved successfully!\")"
      ],
      "metadata": {
        "colab": {
          "base_uri": "https://localhost:8080/"
        },
        "id": "sJJfB4Q4iOXW",
        "outputId": "32e51bc1-a9fa-4c67-af43-dbe4e3d3e5b8"
      },
      "execution_count": 9,
      "outputs": [
        {
          "output_type": "stream",
          "name": "stdout",
          "text": [
            "Updated device.py saved successfully!\n"
          ]
        }
      ]
    },
    {
      "cell_type": "code",
      "source": [
        "registration_py_content = \"\"\"\n",
        "# setting\n",
        "setting_name = ['vanilla', 'fewshot', 'semi', 'noisy', 'continual', 'transfer']\n",
        "\n",
        "# add new dataset\n",
        "dataset_name = {'_example': ('dataset._example', '_example', 'Example'),\n",
        "                'mvtec2d': ('dataset.mvtec2d', 'mvtec2d', 'MVTec2D'),\n",
        "                'mvtec2df3d': ('dataset.mvtec2df3d', 'mvtec2df3d', 'MVTec2DF3D'),\n",
        "                'mvtecloco': ('dataset.mvtecloco', 'mvtecloco', 'MVTecLoco'),\n",
        "                'mpdd': ('dataset.mpdd', 'mpdd', 'MPDD'),\n",
        "                'btad': ('dataset.btad', 'btad', 'BTAD'),\n",
        "                'mtd': ('dataset.mtd', 'mtd', 'MTD'),\n",
        "                'mvtec3d': ('dataset.mvtec3d', 'mvtec3d', 'MVTec3D'),\n",
        "                'visa': ('dataset.visa', 'visa', 'VisA'),\n",
        "                'dagm': ('dataset.dagm', 'dagm', 'DAGM'),\n",
        "                'coad': ('dataset.coad', 'coad', 'COAD'),\n",
        "                }\n",
        "\n",
        "# add new model\n",
        "model_name = {'_example': ('arch._example', '_example', 'Example'),\n",
        "              '_patchcore': ('arch._patchcore', '_patchcore', 'PatchCore'),\n",
        "              'patchcore': ('arch.patchcore', 'patchcore', 'PatchCore'),\n",
        "              'padim': ('arch.padim', 'padim', 'PaDim'),\n",
        "              'csflow': ('arch.csflow', 'csflow', 'CSFlow'),\n",
        "              'dne': ('arch.dne', 'dne', 'DNE'),\n",
        "              'draem': ('arch.draem', 'draem', 'DRAEM'),\n",
        "              'igd': ('arch.igd', 'igd', 'IGD'),\n",
        "              'dra': ('arch.dra', 'dra', 'DRA'),\n",
        "              'devnet': ('arch.devnet', 'devnet', 'DevNet'),\n",
        "              'favae': ('arch.favae', 'favae', 'FAVAE'),\n",
        "              'fastflow': ('arch.fastflow', 'fastflow', 'FastFlow'),\n",
        "              'cfa': ('arch.cfa', 'cfa', 'CFA'),\n",
        "              'reverse': ('arch.reverse', 'reverse', 'REVERSE'),\n",
        "              'spade': ('arch.spade', 'spade', 'SPADE'),\n",
        "              'stpm': ('arch.stpm', 'stpm', 'STPM'),\n",
        "              'cutpaste': ('arch.cutpaste', 'cutpaste', 'CutPaste'),\n",
        "              'graphcore': ('arch.graphcore', 'graphcore', 'GraphCore'),\n",
        "              'simplenet': ('arch.simplenet', 'simplenet', 'SimpleNet'),\n",
        "              'softpatch': ('arch.softpatch', 'softpatch', 'SoftPatch'),\n",
        "              }\n",
        "\n",
        "# server config, ip: dataset root path\n",
        "server_data = {'127.0.0.1': '/content/open-iad/data',\n",
        "               '172.18.36.108': '/ssd2/m3lab/data/open-ad',\n",
        "               '172.18.36.107': '/ssd-sata1/wjb/data/open-ad',\n",
        "              }\n",
        "\"\"\"\n",
        "\n",
        "with open(\"/content/open-iad/configuration/registration.py\", \"w\") as f:\n",
        "    f.write(registration_py_content)\n",
        "\n",
        "print(\"Updated registration.py saved successfully!\")"
      ],
      "metadata": {
        "colab": {
          "base_uri": "https://localhost:8080/"
        },
        "id": "nOyOjJ94EcIB",
        "outputId": "0f3e5b73-3ca5-4fc7-d81a-f259c0e57802"
      },
      "execution_count": 10,
      "outputs": [
        {
          "output_type": "stream",
          "name": "stdout",
          "text": [
            "Updated registration.py saved successfully!\n"
          ]
        }
      ]
    },
    {
      "cell_type": "markdown",
      "source": [
        "# Step 6: Download the dataset"
      ],
      "metadata": {
        "id": "AvW1Ecq4Fuyq"
      }
    },
    {
      "cell_type": "code",
      "source": [
        "!wget https://www.mydrive.ch/shares/38536/3830184030e49fe74747669442f0f282/download/420938113-1629952094/mvtec_anomaly_detection.tar.xz"
      ],
      "metadata": {
        "colab": {
          "base_uri": "https://localhost:8080/"
        },
        "id": "Q35EraniFvRH",
        "outputId": "8e1ba905-f2de-493f-9711-9588e924b5a1"
      },
      "execution_count": 11,
      "outputs": [
        {
          "output_type": "stream",
          "name": "stdout",
          "text": [
            "--2025-02-12 17:31:16--  https://www.mydrive.ch/shares/38536/3830184030e49fe74747669442f0f282/download/420938113-1629952094/mvtec_anomaly_detection.tar.xz\n",
            "Resolving www.mydrive.ch (www.mydrive.ch)... 91.214.169.64\n",
            "Connecting to www.mydrive.ch (www.mydrive.ch)|91.214.169.64|:443... connected.\n",
            "HTTP request sent, awaiting response... 200 OK\n",
            "Length: 5264982680 (4.9G) [application/x-xz]\n",
            "Saving to: ‘mvtec_anomaly_detection.tar.xz’\n",
            "\n",
            "mvtec_anomaly_detec 100%[===================>]   4.90G  17.4MB/s    in 4m 45s  \n",
            "\n",
            "2025-02-12 17:36:02 (17.6 MB/s) - ‘mvtec_anomaly_detection.tar.xz’ saved [5264982680/5264982680]\n",
            "\n"
          ]
        }
      ]
    },
    {
      "cell_type": "code",
      "source": [
        "!mkdir /content/open-iad/data"
      ],
      "metadata": {
        "id": "xdWfFiuhYzrq"
      },
      "execution_count": 12,
      "outputs": []
    },
    {
      "cell_type": "code",
      "source": [
        "!mkdir /content/open-iad/data/mvtec2d"
      ],
      "metadata": {
        "id": "1raYwTiFaiL5"
      },
      "execution_count": 13,
      "outputs": []
    },
    {
      "cell_type": "code",
      "source": [
        "!tar -xf /content/open-iad/mvtec_anomaly_detection.tar.xz -C /content/open-iad/data/mvtec2d"
      ],
      "metadata": {
        "id": "fJTWlFhtNpnd"
      },
      "execution_count": 14,
      "outputs": []
    },
    {
      "cell_type": "markdown",
      "source": [
        "# Step 7: Run the algorithm"
      ],
      "metadata": {
        "id": "LsfNA-dgB7oc"
      }
    },
    {
      "cell_type": "code",
      "source": [
        "!python3 main.py -f -fe 1 -m reverse -n net_reverse -d mvtec2d -tid 0 -vid 0 -g 0"
      ],
      "metadata": {
        "colab": {
          "base_uri": "https://localhost:8080/"
        },
        "id": "sgeGrQ8BN-SF",
        "outputId": "01f867c3-22d0-4acc-e159-1f7ae825352c"
      },
      "execution_count": 17,
      "outputs": [
        {
          "output_type": "stream",
          "name": "stdout",
          "text": [
            "Warning: Unable to get IP for interface 'eno1'. Using '127.0.0.1' as default.\n",
            "local ip: \u001b[1;92m127.0.0.1\u001b[0m, root_path: \u001b[35m/content/open-iad/\u001b[0m\u001b[95mdata\u001b[0m\n",
            "---------------------\n",
            "\u001b[1m{\u001b[0m\n",
            "    \u001b[32m'paradigm'\u001b[0m: \u001b[32m'c2d'\u001b[0m,\n",
            "    \u001b[32m'dataset'\u001b[0m: \u001b[32m'mvtec2d'\u001b[0m,\n",
            "    \u001b[32m'model'\u001b[0m: \u001b[32m'reverse'\u001b[0m,\n",
            "    \u001b[32m'net'\u001b[0m: \u001b[32m'net_reverse'\u001b[0m,\n",
            "    \u001b[32m'train_task_id'\u001b[0m: \u001b[1m[\u001b[0m\u001b[1;36m0\u001b[0m\u001b[1m]\u001b[0m,\n",
            "    \u001b[32m'valid_task_id'\u001b[0m: \u001b[1m[\u001b[0m\u001b[1;36m0\u001b[0m\u001b[1m]\u001b[0m,\n",
            "    \u001b[32m'fewshot'\u001b[0m: \u001b[3;92mTrue\u001b[0m,\n",
            "    \u001b[32m'fewshot_exm'\u001b[0m: \u001b[1;36m1\u001b[0m,\n",
            "    \u001b[32m'gpu_id'\u001b[0m: \u001b[32m'0'\u001b[0m,\n",
            "    \u001b[32m'vis'\u001b[0m: \u001b[3;92mTrue\u001b[0m\n",
            "\u001b[1m}\u001b[0m\n",
            "---------------------\n",
            "\u001b[1m{\u001b[0m\n",
            "    \u001b[32m'dataset'\u001b[0m: \u001b[32m'mvtec2d'\u001b[0m,\n",
            "    \u001b[32m'root_path'\u001b[0m: \u001b[32m'/content/open-iad/data'\u001b[0m,\n",
            "    \u001b[32m'data_path'\u001b[0m: \u001b[32m'/content/open-iad/data/mvtec2d'\u001b[0m,\n",
            "    \u001b[32m'num_task'\u001b[0m: \u001b[1;36m15\u001b[0m,\n",
            "    \u001b[32m'data_size'\u001b[0m: \u001b[1;36m256\u001b[0m,\n",
            "    \u001b[32m'data_crop_size'\u001b[0m: \u001b[1;36m256\u001b[0m,\n",
            "    \u001b[32m'mask_size'\u001b[0m: \u001b[1;36m256\u001b[0m,\n",
            "    \u001b[32m'mask_crop_size'\u001b[0m: \u001b[1;36m256\u001b[0m,\n",
            "    \u001b[32m'learning_mode'\u001b[0m: \u001b[32m'centralized'\u001b[0m,\n",
            "    \u001b[32m'vanilla'\u001b[0m: \u001b[3;91mFalse\u001b[0m,\n",
            "    \u001b[32m'semi'\u001b[0m: \u001b[3;91mFalse\u001b[0m,\n",
            "    \u001b[32m'semi_anomaly_num'\u001b[0m: \u001b[1;36m5\u001b[0m,\n",
            "    \u001b[32m'semi_overlap'\u001b[0m: \u001b[3;91mFalse\u001b[0m,\n",
            "    \u001b[32m'ref_num'\u001b[0m: \u001b[1;36m5\u001b[0m,\n",
            "    \u001b[32m'continual'\u001b[0m: \u001b[3;91mFalse\u001b[0m,\n",
            "    \u001b[32m'fewshot'\u001b[0m: \u001b[3;92mTrue\u001b[0m,\n",
            "    \u001b[32m'fewshot_exm'\u001b[0m: \u001b[1;36m1\u001b[0m,\n",
            "    \u001b[32m'fewshot_num_dg'\u001b[0m: \u001b[1;36m4\u001b[0m,\n",
            "    \u001b[32m'fewshot_data_aug'\u001b[0m: \u001b[3;91mFalse\u001b[0m,\n",
            "    \u001b[32m'fewshot_feat_aug'\u001b[0m: \u001b[3;91mFalse\u001b[0m,\n",
            "    \u001b[32m'fewshot_aug_type'\u001b[0m: \u001b[1m[\u001b[0m\u001b[32m'normal'\u001b[0m\u001b[1m]\u001b[0m,\n",
            "    \u001b[32m'noisy'\u001b[0m: \u001b[3;91mFalse\u001b[0m,\n",
            "    \u001b[32m'noisy_ratio'\u001b[0m: \u001b[1;36m0.1\u001b[0m,\n",
            "    \u001b[32m'noisy_overlap'\u001b[0m: \u001b[3;91mFalse\u001b[0m,\n",
            "    \u001b[32m'transfer'\u001b[0m: \u001b[3;91mFalse\u001b[0m,\n",
            "    \u001b[32m'transfer_target_sample_num'\u001b[0m: \u001b[1;36m8\u001b[0m,\n",
            "    \u001b[32m'gpu_id'\u001b[0m: \u001b[32m'0'\u001b[0m,\n",
            "    \u001b[32m'gpu_ids'\u001b[0m: \u001b[1m[\u001b[0m\u001b[32m'01234567'\u001b[0m\u001b[1m]\u001b[0m,\n",
            "    \u001b[32m'num_workers'\u001b[0m: \u001b[1;36m8\u001b[0m,\n",
            "    \u001b[32m'work_dir'\u001b[0m: \u001b[32m'./work_dir'\u001b[0m,\n",
            "    \u001b[32m'save_log'\u001b[0m: \u001b[3;92mTrue\u001b[0m,\n",
            "    \u001b[32m'debug'\u001b[0m: \u001b[3;91mFalse\u001b[0m,\n",
            "    \u001b[32m'batch_limit'\u001b[0m: \u001b[1;36m2\u001b[0m,\n",
            "    \u001b[32m'seed'\u001b[0m: \u001b[1;36m66\u001b[0m,\n",
            "    \u001b[32m'train_task_id'\u001b[0m: \u001b[1m[\u001b[0m\u001b[1;36m0\u001b[0m\u001b[1m]\u001b[0m,\n",
            "    \u001b[32m'valid_task_id'\u001b[0m: \u001b[1m[\u001b[0m\u001b[1;36m0\u001b[0m\u001b[1m]\u001b[0m,\n",
            "    \u001b[32m'train_task_id_tmp'\u001b[0m: \u001b[1;36m0\u001b[0m,\n",
            "    \u001b[32m'valid_task_id_tmp'\u001b[0m: \u001b[1;36m0\u001b[0m,\n",
            "    \u001b[32m'vis'\u001b[0m: \u001b[3;92mTrue\u001b[0m,\n",
            "    \u001b[32m'vis_num'\u001b[0m: \u001b[1;36m10\u001b[0m,\n",
            "    \u001b[32m'vis_em'\u001b[0m: \u001b[3;91mFalse\u001b[0m,\n",
            "    \u001b[32m'server_moda'\u001b[0m: \u001b[32m'eno1'\u001b[0m,\n",
            "    \u001b[32m'model'\u001b[0m: \u001b[32m'reverse'\u001b[0m,\n",
            "    \u001b[32m'net'\u001b[0m: \u001b[32m'net_reverse'\u001b[0m,\n",
            "    \u001b[32m'num_epochs'\u001b[0m: \u001b[1;36m200\u001b[0m,\n",
            "    \u001b[32m'train_batch_size'\u001b[0m: \u001b[1;36m8\u001b[0m,\n",
            "    \u001b[32m'valid_batch_size'\u001b[0m: \u001b[1;36m1\u001b[0m,\n",
            "    \u001b[32m'train_aug_type'\u001b[0m: \u001b[32m'normal'\u001b[0m,\n",
            "    \u001b[32m'valid_aug_type'\u001b[0m: \u001b[32m'normal'\u001b[0m,\n",
            "    \u001b[32m'_name'\u001b[0m: \u001b[32m'reverse'\u001b[0m,\n",
            "    \u001b[32m'_optimizer_name'\u001b[0m: \u001b[32m'adam'\u001b[0m,\n",
            "    \u001b[32m'_base_lr'\u001b[0m: \u001b[1;36m0.005\u001b[0m,\n",
            "    \u001b[32m'_gamma'\u001b[0m: \u001b[1;36m0.2\u001b[0m,\n",
            "    \u001b[32m'_beta1'\u001b[0m: \u001b[1;36m0.5\u001b[0m,\n",
            "    \u001b[32m'_beta2'\u001b[0m: \u001b[1;36m0.999\u001b[0m,\n",
            "    \u001b[32m'_weight_decay'\u001b[0m: \u001b[1;36m1e-06\u001b[0m,\n",
            "    \u001b[32m'file_path'\u001b[0m: \u001b[32m'./work_dir/centralized/mvtec2d/Wed Feb 12 18:27:39 2025'\u001b[0m\n",
            "\u001b[1m}\u001b[0m\n",
            "---------------------\n",
            "-> train \u001b[33m...\u001b[0m\n",
            "run task: \u001b[1;36m0\u001b[0m, bottle\n",
            "-> test \u001b[33m...\u001b[0m\n",
            "run task: \u001b[1;36m0\u001b[0m, bottle\n",
            "-> visualize \u001b[33m...\u001b[0m\n",
            "[ WARN:0@95.856] global loadsave.cpp:848 imwrite_ Unsupported depth image for selected encoder is fallbacked to CV_8U.\n",
            "paradigm: fewshot dataset: mvtec2d model: reverse train_task_id: \u001b[1;36m0\u001b[0m valid_task_id: \u001b[1;36m0\u001b[0m pixel_auroc: \n",
            "\u001b[1;36m0.9787\u001b[0m img_auroc: \u001b[1;36m0.9952\u001b[0m pixel_ap: \u001b[1;36m0.7404\u001b[0m img_ap: \u001b[1;36m0.9985\u001b[0m pixel_aupro: \u001b[1;36m0.9410\u001b[0m inference speed: \u001b[1;36m0.0491\u001b[0m\n"
          ]
        }
      ]
    },
    {
      "cell_type": "markdown",
      "source": [
        "# Step 8: implement new way"
      ],
      "metadata": {
        "id": "rv2MMIQP43TE"
      }
    },
    {
      "cell_type": "code",
      "source": [
        "new_registration_py_content = \"\"\"\n",
        "# setting\n",
        "setting_name = ['vanilla', 'fewshot', 'semi', 'noisy', 'continual', 'transfer']\n",
        "\n",
        "# add new dataset\n",
        "dataset_name = {'_example': ('dataset._example', '_example', 'Example'),\n",
        "                'mvtec2d': ('dataset.mvtec2d', 'mvtec2d', 'MVTec2D'),\n",
        "                'mvtec2df3d': ('dataset.mvtec2df3d', 'mvtec2df3d', 'MVTec2DF3D'),\n",
        "                'mvtecloco': ('dataset.mvtecloco', 'mvtecloco', 'MVTecLoco'),\n",
        "                'mpdd': ('dataset.mpdd', 'mpdd', 'MPDD'),\n",
        "                'btad': ('dataset.btad', 'btad', 'BTAD'),\n",
        "                'mtd': ('dataset.mtd', 'mtd', 'MTD'),\n",
        "                'mvtec3d': ('dataset.mvtec3d', 'mvtec3d', 'MVTec3D'),\n",
        "                'visa': ('dataset.visa', 'visa', 'VisA'),\n",
        "                'dagm': ('dataset.dagm', 'dagm', 'DAGM'),\n",
        "                'coad': ('dataset.coad', 'coad', 'COAD'),\n",
        "                }\n",
        "\n",
        "# add new model\n",
        "model_name = {'_example': ('arch._example', '_example', 'Example'),\n",
        "              '_patchcore': ('arch._patchcore', '_patchcore', 'PatchCore'),\n",
        "              'patchcore': ('arch.patchcore', 'patchcore', 'PatchCore'),\n",
        "              'padim': ('arch.padim', 'padim', 'PaDim'),\n",
        "              'csflow': ('arch.csflow', 'csflow', 'CSFlow'),\n",
        "              'dne': ('arch.dne', 'dne', 'DNE'),\n",
        "              'draem': ('arch.draem', 'draem', 'DRAEM'),\n",
        "              'igd': ('arch.igd', 'igd', 'IGD'),\n",
        "              'dra': ('arch.dra', 'dra', 'DRA'),\n",
        "              'devnet': ('arch.devnet', 'devnet', 'DevNet'),\n",
        "              'favae': ('arch.favae', 'favae', 'FAVAE'),\n",
        "              'fastflow': ('arch.fastflow', 'fastflow', 'FastFlow'),\n",
        "              'cfa': ('arch.cfa', 'cfa', 'CFA'),\n",
        "              'reverse': ('arch.reverse', 'reverse', 'REVERSE'),\n",
        "              'spade': ('arch.spade', 'spade', 'SPADE'),\n",
        "              'stpm': ('arch.stpm', 'stpm', 'STPM'),\n",
        "              'cutpaste': ('arch.cutpaste', 'cutpaste', 'CutPaste'),\n",
        "              'graphcore': ('arch.graphcore', 'graphcore', 'GraphCore'),\n",
        "              'simplenet': ('arch.simplenet', 'simplenet', 'SimpleNet'),\n",
        "              'softpatch': ('arch.softpatch', 'softpatch', 'SoftPatch'),\n",
        "              'ahmadasadi': ('arch.ahmadasadi', 'ahmadasadi', 'AhmadAsadi'),\n",
        "              }\n",
        "\n",
        "# server config, ip: dataset root path\n",
        "server_data = {'127.0.0.1': '/content/open-iad/data',\n",
        "               '172.18.36.108': '/ssd2/m3lab/data/open-ad',\n",
        "               '172.18.36.107': '/ssd-sata1/wjb/data/open-ad',\n",
        "              }\n",
        "\"\"\"\n",
        "\n",
        "with open(\"/content/open-iad/configuration/registration.py\", \"w\") as f:\n",
        "    f.write(new_registration_py_content)\n",
        "\n",
        "print(\"Updated registration.py saved successfully!\")"
      ],
      "metadata": {
        "id": "wHMVhG4H48SE"
      },
      "execution_count": null,
      "outputs": []
    },
    {
      "cell_type": "code",
      "source": [
        "new_config_py_content = \"\"\"\n",
        "import argparse\n",
        "# from asyncio import FastChildWatcher\n",
        "from logging import root\n",
        "\n",
        "__all__ = ['parse_arguments_main']\n",
        "\n",
        "def parse_arguments_main():\n",
        "    parser = argparse.ArgumentParser()\n",
        "    ## learning paradigm\n",
        "    parser.add_argument('--paradigm', '-p', type=str, default='c2d', choices=['c2d', 'c3d', 'f2d'])\n",
        "\n",
        "    # ----------------------------- centralized learning ----------------------------- #\n",
        "    parser.add_argument('--dataset', '-d', type=str, default='mvtec2d', choices=['_example', 'mvtec2d', 'mvtec3d', 'mpdd', 'mvtecloco', 'mtd',\n",
        "                                                                              'btad', 'mvtec2df3d', 'visa', 'dagm', 'coad'])\n",
        "    parser.add_argument('--model', '-m', type=str, default='softpatch', choices=['_example', '_patchcore', 'patchcore', 'csflow', 'dne',\n",
        "        'draem', 'igd', 'cutpaste', 'devnet', 'dra', 'favae', 'padim', 'reverse', 'spade', 'fastflow', 'softpatch', 'cfa', 'stpm',\n",
        "        'simplenet', 'softpatch', 'ahmadasadi'])\n",
        "    parser.add_argument('--net', '-n', type=str, default='wide_resnet50', choices=['net_example', 'wide_resnet50', 'resnet18', 'net_csflow',\n",
        "        'vit_b_16', 'net_draem', 'net_dra', 'net_igd', 'net_reverse', 'net_favae', 'net_fastflow', 'net_cfa', 'net_devnet',\n",
        "        'vig_ti_224_gelu', 'net_ahmadasadi'])\n",
        "\n",
        "    parser.add_argument('--root-path', '-rp', type=str, default=None)\n",
        "    parser.add_argument('--data-path', '-dp', type=str, default=None)\n",
        "\n",
        "    parser.add_argument('--train-task-id', '-tid', type=int, default=[0], nargs='+')\n",
        "    parser.add_argument('--valid-task-id', '-vid', type=int, default=[0], nargs='+')\n",
        "    parser.add_argument('--sampler-percentage', '-sp', type=float, default=None)\n",
        "\n",
        "    # vanilla\n",
        "    parser.add_argument('--vanilla', '-v', action='store_true', default=False)\n",
        "\n",
        "    # semi-supervised\n",
        "    parser.add_argument('--semi', '-s', action='store_true', default=False)\n",
        "    parser.add_argument('--semi-anomaly-num', '-san', type=int, default=None)\n",
        "    parser.add_argument('--semi-overlap', '-so', action='store_true', default=False)\n",
        "\n",
        "    # continual\n",
        "    parser.add_argument('--continual', '-c', action='store_true', default=False)\n",
        "\n",
        "    # fewshot\n",
        "    parser.add_argument('--fewshot', '-f', action='store_true', default=False)\n",
        "    parser.add_argument('--fewshot-exm', '-fe', type=int, default=None)\n",
        "    parser.add_argument('--fewshot-data-aug', '-fda', action='store_true', default=False)\n",
        "    parser.add_argument('--fewshot-feat-aug', '-ffa', action='store_true', default=False)\n",
        "    parser.add_argument('--fewshot-num-dg', '-fnd', type=int, default=None)\n",
        "    parser.add_argument('--fewshot-aug-type', '-fat', default=None, nargs='+',\n",
        "                        choices=['normal', 'rotation', 'scale', 'translate', 'flip', 'color_jitter', 'perspective'])\n",
        "\n",
        "    # noisy label\n",
        "    parser.add_argument('--noisy', '-z', action='store_true', default=False)\n",
        "    parser.add_argument('--noisy-overlap', '-no', action='store_true', default=False)\n",
        "    parser.add_argument('--noisy-ratio', '-nr', type=float, default=None)\n",
        "\n",
        "    # transfer\n",
        "    parser.add_argument('--transfer', '-t', action='store_true', default=False)\n",
        "    parser.add_argument('--transfer-target-sample-num', '-ttn', type=int, default=None)\n",
        "\n",
        "    # data augmentation type\n",
        "    parser.add_argument('--train-aug-type', '-tag', default=None, choices=['normal', 'cutpaste'], help='data augmentation type')\n",
        "    parser.add_argument('--valid-aug-type', '-vag', default=None, choices=['normal', 'cutpaste'], help='data augmentation type')\n",
        "\n",
        "    # universal\n",
        "    parser.add_argument('--gpu-id', '-g', type=str, default=None)\n",
        "    parser.add_argument('--server-moda', '-sm', type=str, default=None, choices=['eno1', 'lo'])\n",
        "    parser.add_argument('--num-epochs', '-ne', type=int, default=None)\n",
        "    parser.add_argument('--seed', type=int, default=None)\n",
        "    parser.add_argument('--debug', action='store_true', default=False)\n",
        "    parser.add_argument('--vis', '-vis', action='store_true', default=True)\n",
        "    parser.add_argument('--vis-em', action='store_true', default=False)\n",
        "\n",
        "    parser.add_argument('--save-model', action='store_true', default=False)\n",
        "    parser.add_argument('--load-model', action='store_true', default=False)\n",
        "    parser.add_argument('--load-model-dir', type=str, default=None)\n",
        "\n",
        "    # ----------------------------- federated learning ----------------------------- #\n",
        "    parser.add_argument('--fed-aggregate-method', '-fam', type=str, default=None)\n",
        "    parser.add_argument('--num-round', type=int, default=None)\n",
        "\n",
        "\n",
        "    args = parser.parse_args()\n",
        "    return args\n",
        "\n",
        "\n",
        "\"\"\"\n",
        "\n",
        "with open(\"/content/open-iad/configuration/config.py\", \"w\") as f:\n",
        "    f.write(new_config_py_content)\n",
        "\n",
        "print(\"Updated registration.py saved successfully!\")"
      ],
      "metadata": {
        "id": "p4A4XB_A8AxA"
      },
      "execution_count": null,
      "outputs": []
    }
  ]
}