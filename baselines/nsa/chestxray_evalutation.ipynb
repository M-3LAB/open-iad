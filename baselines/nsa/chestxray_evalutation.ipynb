{
 "cells": [
  {
   "cell_type": "code",
   "execution_count": 1,
   "id": "a3737eab",
   "metadata": {},
   "outputs": [
    {
     "name": "stdout",
     "output_type": "stream",
     "text": [
      "Using cuda\n"
     ]
    }
   ],
   "source": [
    "import os\n",
    "import numpy as np\n",
    "from torch.utils.data import DataLoader\n",
    "from torchvision import transforms as T\n",
    "import cv2\n",
    "import pandas as pd\n",
    "\n",
    "from self_sup_data.chest_xray import SelfSupChestXRay\n",
    "from model.resnet import resnet18_enc_dec\n",
    "from train_chest_xray import SETTINGS\n",
    "from experiments.chest_xray_tasks import test_real_anomalies\n",
    "\n",
    "\n",
    "def test(test_dat, setting, device, preact=False, pool=True, final=True, show=True, plots=False):\n",
    "    if final:\n",
    "        fname = os.path.join(model_dir, setting.get('out_dir'), 'final_' + setting.get('fname'))\n",
    "    else: \n",
    "        fname = os.path.join(model_dir, setting.get('out_dir'), setting.get('fname'))\n",
    "    print(fname)\n",
    "    if not os.path.exists(fname):\n",
    "        return np.nan, np.nan\n",
    "\n",
    "    model = resnet18_enc_dec(num_classes=1, preact=preact, pool=pool, in_channels=1,\n",
    "                             final_activation=setting.get('final_activation')).to(device)\n",
    "    if final:\n",
    "        model.load_state_dict(torch.load(fname))\n",
    "    else:\n",
    "        model.load_state_dict(torch.load(fname).get('model_state_dict'))\n",
    "    \n",
    "    if plots:\n",
    "        sample_ap, sample_auroc, fig = test_real_anomalies(model, test_dat, \n",
    "                        device=device, batch_size=16, show=show, full_size=True)\n",
    "        fig.savefig(os.path.join(out_dir, setting.get('fname')[:-3] + '.png'))\n",
    "        plt.close(fig)\n",
    "    else:\n",
    "        sample_ap, sample_auroc, _ = test_real_anomalies(model, test_dat, \n",
    "                        device=device, batch_size=16, show=show, plots=plots, full_size=True)\n",
    "    \n",
    "    return sample_ap, sample_auroc\n",
    "\n",
    "\n",
    "model_dir = 'put/your/path/here'\n",
    "if not os.path.exists(model_dir):\n",
    "    os.makedirs(model_dir)\n",
    "    \n",
    "out_dir = 'put/your/path/here'\n",
    "if not os.path.exists(out_dir):\n",
    "    os.makedirs(out_dir)\n",
    "\n",
    "data_dir = 'put/your/path/here'\n",
    "\n",
    "device = torch.device(\"cuda\"  if torch.cuda.is_available() else \"cpu\")\n",
    "print(f'Using {device}')"
   ]
  },
  {
   "cell_type": "markdown",
   "id": "0c02e869",
   "metadata": {},
   "source": [
    "# Evaluation for male PA"
   ]
  },
  {
   "cell_type": "code",
   "execution_count": null,
   "id": "c948257d",
   "metadata": {
    "scrolled": true
   },
   "outputs": [],
   "source": [
    "with open('self_sup_data/chest_xray_lists/norm_MaleAdultPA_test_curated_list.txt', \"r\") as f:\n",
    "    normal_test_files = f.read().splitlines()\n",
    "with open('self_sup_data/chest_xray_lists/anomaly_MaleAdultPA_test_curated_list.txt', \"r\") as f:\n",
    "    anom_test_files = f.read().splitlines()\n",
    "\n",
    "modes = list(SETTINGS.keys())\n",
    "\n",
    "sample_ap_df = pd.DataFrame(columns=modes)\n",
    "sample_auroc_df = pd.DataFrame(columns=modes)\n",
    "\n",
    "test_dat = SelfSupChestXRay(data_dir=data_dir, normal_files=normal_test_files, anom_files=anom_test_files,\n",
    "                             is_train=False, res=256, transform=T.CenterCrop(224))\n",
    "sample_aps, sample_aurocs = {}, {}\n",
    "for mode in modes:\n",
    "    sample_aps[mode], sample_aurocs[mode] = test(\n",
    "            test_dat, SETTINGS.get(mode), device, preact=False, pool=True, final=True)\n",
    "\n",
    "sample_ap_df = sample_ap_df.append(sample_aps, ignore_index=True).transpose()\n",
    "sample_auroc_df = sample_auroc_df.append(sample_aurocs, ignore_index=True).transpose()\n"
   ]
  },
  {
   "cell_type": "code",
   "execution_count": 6,
   "id": "f9a5973f",
   "metadata": {},
   "outputs": [
    {
     "name": "stdout",
     "output_type": "stream",
     "text": [
      "\\begin{tabular}{lrrllll}\n",
      "\\toprule\n",
      "{} &  CutPaste &  FPI &             FPI-Poisson &           Ours (binary) &        Ours (continous) &         Ours (logistic) \\\\\n",
      "\\midrule\n",
      "0 &      59.8 & 73.7 &  91.7 {\\tiny $\\pm$ 0.6} &  94.0 {\\tiny $\\pm$ 0.5} &  93.4 {\\tiny $\\pm$ 0.3} &  94.0 {\\tiny $\\pm$ 0.6} \\\\\n",
      "\\bottomrule\n",
      "\\end{tabular}\n",
      "\n"
     ]
    }
   ],
   "source": [
    "pd.options.display.float_format = '{:3.1f}'.format\n",
    "\n",
    "sample_table = 100 * sample_auroc_df.transpose()\n",
    "\n",
    "cols_shift = sample_table.loc[: , 'Shift-M':'Shift-M-123425']\n",
    "cols_shift_int = sample_table.loc[: , 'Shift-Intensity-M':'Shift-Intensity-M-123425']\n",
    "cols_shift_raw_int = sample_table.loc[: , 'Shift-Raw-Intensity-M':'Shift-Raw-Intensity-M-123425']\n",
    "cols_pii = sample_table.loc[: , 'FPI-Poisson':'FPI-Poisson-123425']\n",
    "\n",
    "merge_func = lambda x: r'{:3.1f} {{\\tiny $\\pm$ {:3.1f}}}'.format(*x)\n",
    "sample_table['Shift'] = list(map(merge_func, zip(cols_shift.mean(axis=1),  cols_shift.std(axis=1))))\n",
    "sample_table['Shift-Intensity'] = list(map(merge_func, zip(cols_shift_int.mean(axis=1),  cols_shift_int.std(axis=1))))\n",
    "sample_table['Shift-Raw-Intensity'] = list(map(merge_func, zip(cols_shift_raw_int.mean(axis=1),  cols_shift_raw_int.std(axis=1))))\n",
    "sample_table['FPI-Poisson'] = list(map(merge_func, zip(cols_pii.mean(axis=1),  cols_pii.std(axis=1))))\n",
    "\n",
    "\n",
    "sample_table = sample_table[['CutPaste', 'FPI', 'FPI-Poisson', \n",
    "                             'Shift', 'Shift-Raw-Intensity', 'Shift-Intensity']].rename(\n",
    "    columns={'Shift':'Ours (binary)', 'Shift-Intensity':'Ours (logistic)', 'Shift-Raw-Intensity':'Ours (continous)'})\n",
    "\n",
    "print(sample_table.to_latex(escape=False))"
   ]
  },
  {
   "cell_type": "code",
   "execution_count": 7,
   "id": "924eb551",
   "metadata": {},
   "outputs": [
    {
     "data": {
      "text/html": [
       "<div>\n",
       "<style scoped>\n",
       "    .dataframe tbody tr th:only-of-type {\n",
       "        vertical-align: middle;\n",
       "    }\n",
       "\n",
       "    .dataframe tbody tr th {\n",
       "        vertical-align: top;\n",
       "    }\n",
       "\n",
       "    .dataframe thead th {\n",
       "        text-align: right;\n",
       "    }\n",
       "</style>\n",
       "<table border=\"1\" class=\"dataframe\">\n",
       "  <thead>\n",
       "    <tr style=\"text-align: right;\">\n",
       "      <th></th>\n",
       "      <th>CutPaste</th>\n",
       "      <th>FPI</th>\n",
       "      <th>FPI-Poisson</th>\n",
       "      <th>Ours (binary)</th>\n",
       "      <th>Ours (continous)</th>\n",
       "      <th>Ours (logistic)</th>\n",
       "    </tr>\n",
       "  </thead>\n",
       "  <tbody>\n",
       "    <tr>\n",
       "      <th>0</th>\n",
       "      <td>59.8</td>\n",
       "      <td>73.7</td>\n",
       "      <td>91.7 {\\tiny $\\pm$ 0.6}</td>\n",
       "      <td>94.0 {\\tiny $\\pm$ 0.5}</td>\n",
       "      <td>93.4 {\\tiny $\\pm$ 0.3}</td>\n",
       "      <td>94.0 {\\tiny $\\pm$ 0.6}</td>\n",
       "    </tr>\n",
       "  </tbody>\n",
       "</table>\n",
       "</div>"
      ],
      "text/plain": [
       "   CutPaste  FPI             FPI-Poisson           Ours (binary)  \\\n",
       "0      59.8 73.7  91.7 {\\tiny $\\pm$ 0.6}  94.0 {\\tiny $\\pm$ 0.5}   \n",
       "\n",
       "         Ours (continous)         Ours (logistic)  \n",
       "0  93.4 {\\tiny $\\pm$ 0.3}  94.0 {\\tiny $\\pm$ 0.6}  "
      ]
     },
     "execution_count": 7,
     "metadata": {},
     "output_type": "execute_result"
    }
   ],
   "source": [
    "sample_table  # male"
   ]
  },
  {
   "cell_type": "markdown",
   "id": "3875ca40",
   "metadata": {},
   "source": [
    "# Evaluation for female PA"
   ]
  },
  {
   "cell_type": "code",
   "execution_count": null,
   "id": "c41894a2",
   "metadata": {
    "scrolled": true
   },
   "outputs": [],
   "source": [
    "with open('self_sup_data/chest_xray_lists/norm_FemaleAdultPA_test_curated_list.txt', \"r\") as f:\n",
    "    normal_test_files = f.read().splitlines()\n",
    "with open('self_sup_data/chest_xray_lists/anomaly_FemaleAdultPA_test_curated_list.txt', \"r\") as f:\n",
    "    anom_test_files = f.read().splitlines()\n",
    "\n",
    "modes = list(SETTINGS.keys())\n",
    "\n",
    "sample_ap_df = pd.DataFrame(columns=modes)\n",
    "sample_auroc_df = pd.DataFrame(columns=modes)\n",
    "\n",
    "test_dat = SelfSupChestXRay(data_dir=data_dir, normal_files=normal_test_files, anom_files=anom_test_files,\n",
    "                             is_train=False, res=256, transform=T.CenterCrop(224))\n",
    "sample_aps, sample_aurocs = {}, {}\n",
    "for mode in modes:\n",
    "    sample_aps[mode], sample_aurocs[mode] = test(\n",
    "            test_dat, SETTINGS.get(mode), device, preact=False, pool=True, final=True)\n",
    "\n",
    "sample_ap_df = sample_ap_df.append(sample_aps, ignore_index=True).transpose()\n",
    "sample_auroc_df = sample_auroc_df.append(sample_aurocs, ignore_index=True).transpose()"
   ]
  },
  {
   "cell_type": "code",
   "execution_count": 16,
   "id": "47290f11",
   "metadata": {},
   "outputs": [
    {
     "name": "stdout",
     "output_type": "stream",
     "text": [
      "\\begin{tabular}{lrrllll}\n",
      "\\toprule\n",
      "{} &  CutPaste &  FPI &             FPI-Poisson &           Ours (binary) &        Ours (continous) &         Ours (logistic) \\\\\n",
      "\\midrule\n",
      "0 &      56.2 & 67.4 &  92.8 {\\tiny $\\pm$ 0.4} &  94.3 {\\tiny $\\pm$ 0.6} &  93.0 {\\tiny $\\pm$ 0.4} &  94.0 {\\tiny $\\pm$ 0.5} \\\\\n",
      "\\bottomrule\n",
      "\\end{tabular}\n",
      "\n"
     ]
    }
   ],
   "source": [
    "pd.options.display.float_format = '{:3.1f}'.format\n",
    "\n",
    "sample_table = 100 * sample_auroc_df.transpose()\n",
    "\n",
    "cols_shift = sample_table.loc[: , 'Shift-M':'Shift-M-123425']\n",
    "cols_shift_int = sample_table.loc[: , 'Shift-Intensity-M':'Shift-Intensity-M-123425']\n",
    "cols_shift_raw_int = sample_table.loc[: , 'Shift-Raw-Intensity-M':'Shift-Raw-Intensity-M-123425']\n",
    "cols_pii = sample_table.loc[: , 'FPI-Poisson':'FPI-Poisson-123425']\n",
    "\n",
    "merge_func = lambda x: r'{:3.1f} {{\\tiny $\\pm$ {:3.1f}}}'.format(*x)\n",
    "sample_table['Shift'] = list(map(merge_func, zip(cols_shift.mean(axis=1),  cols_shift.std(axis=1))))\n",
    "sample_table['Shift-Intensity'] = list(map(merge_func, zip(cols_shift_int.mean(axis=1),  cols_shift_int.std(axis=1))))\n",
    "sample_table['Shift-Raw-Intensity'] = list(map(merge_func, zip(cols_shift_raw_int.mean(axis=1),  cols_shift_raw_int.std(axis=1))))\n",
    "sample_table['FPI-Poisson'] = list(map(merge_func, zip(cols_pii.mean(axis=1),  cols_pii.std(axis=1))))\n",
    "\n",
    "\n",
    "sample_table = sample_table[['CutPaste', 'FPI', 'FPI-Poisson', \n",
    "                             'Shift', 'Shift-Raw-Intensity', 'Shift-Intensity']].rename(\n",
    "    columns={'Shift':'Ours (binary)', 'Shift-Intensity':'Ours (logistic)', 'Shift-Raw-Intensity':'Ours (continous)'})\n",
    "\n",
    "print(sample_table.to_latex(escape=False))"
   ]
  },
  {
   "cell_type": "code",
   "execution_count": 17,
   "id": "ea8b0292",
   "metadata": {},
   "outputs": [
    {
     "data": {
      "text/html": [
       "<div>\n",
       "<style scoped>\n",
       "    .dataframe tbody tr th:only-of-type {\n",
       "        vertical-align: middle;\n",
       "    }\n",
       "\n",
       "    .dataframe tbody tr th {\n",
       "        vertical-align: top;\n",
       "    }\n",
       "\n",
       "    .dataframe thead th {\n",
       "        text-align: right;\n",
       "    }\n",
       "</style>\n",
       "<table border=\"1\" class=\"dataframe\">\n",
       "  <thead>\n",
       "    <tr style=\"text-align: right;\">\n",
       "      <th></th>\n",
       "      <th>CutPaste</th>\n",
       "      <th>FPI</th>\n",
       "      <th>FPI-Poisson</th>\n",
       "      <th>Ours (binary)</th>\n",
       "      <th>Ours (continous)</th>\n",
       "      <th>Ours (logistic)</th>\n",
       "    </tr>\n",
       "  </thead>\n",
       "  <tbody>\n",
       "    <tr>\n",
       "      <th>0</th>\n",
       "      <td>56.2</td>\n",
       "      <td>67.4</td>\n",
       "      <td>92.8 {\\tiny $\\pm$ 0.4}</td>\n",
       "      <td>94.3 {\\tiny $\\pm$ 0.6}</td>\n",
       "      <td>93.0 {\\tiny $\\pm$ 0.4}</td>\n",
       "      <td>94.0 {\\tiny $\\pm$ 0.5}</td>\n",
       "    </tr>\n",
       "  </tbody>\n",
       "</table>\n",
       "</div>"
      ],
      "text/plain": [
       "   CutPaste  FPI             FPI-Poisson           Ours (binary)  \\\n",
       "0      56.2 67.4  92.8 {\\tiny $\\pm$ 0.4}  94.3 {\\tiny $\\pm$ 0.6}   \n",
       "\n",
       "         Ours (continous)         Ours (logistic)  \n",
       "0  93.0 {\\tiny $\\pm$ 0.4}  94.0 {\\tiny $\\pm$ 0.5}  "
      ]
     },
     "execution_count": 17,
     "metadata": {},
     "output_type": "execute_result"
    }
   ],
   "source": [
    "sample_table  # female"
   ]
  },
  {
   "cell_type": "code",
   "execution_count": null,
   "id": "1e66cb62",
   "metadata": {},
   "outputs": [],
   "source": []
  }
 ],
 "metadata": {
  "kernelspec": {
   "display_name": "Python 3",
   "language": "python",
   "name": "python3"
  },
  "language_info": {
   "codemirror_mode": {
    "name": "ipython",
    "version": 3
   },
   "file_extension": ".py",
   "mimetype": "text/x-python",
   "name": "python",
   "nbconvert_exporter": "python",
   "pygments_lexer": "ipython3",
   "version": "3.8.5"
  }
 },
 "nbformat": 4,
 "nbformat_minor": 5
}
